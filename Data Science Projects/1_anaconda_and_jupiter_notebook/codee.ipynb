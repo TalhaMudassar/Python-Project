{
 "cells": [
  {
   "cell_type": "markdown",
   "id": "a9e92e85",
   "metadata": {},
   "source": [
    "### welcome to python notebook\n",
    "### Day 1\n",
    "This is where you can write your notes\n"
   ]
  },
  {
   "cell_type": "code",
   "execution_count": 2,
   "id": "7e1adfb3",
   "metadata": {},
   "outputs": [
    {
     "name": "stdout",
     "output_type": "stream",
     "text": [
      "talha\n"
     ]
    }
   ],
   "source": [
    "print(\"talha\")"
   ]
  },
  {
   "cell_type": "code",
   "execution_count": 3,
   "id": "59d7b4d5",
   "metadata": {},
   "outputs": [
    {
     "name": "stdout",
     "output_type": "stream",
     "text": [
      "this value is 0\n",
      "this value is 1\n",
      "this value is 2\n",
      "this value is 3\n",
      "this value is 4\n"
     ]
    }
   ],
   "source": [
    "for i in range(5):\n",
    "    print(f\"this value is {i}\")"
   ]
  }
 ],
 "metadata": {
  "kernelspec": {
   "display_name": "Python 3",
   "language": "python",
   "name": "python3"
  },
  "language_info": {
   "codemirror_mode": {
    "name": "ipython",
    "version": 3
   },
   "file_extension": ".py",
   "mimetype": "text/x-python",
   "name": "python",
   "nbconvert_exporter": "python",
   "pygments_lexer": "ipython3",
   "version": "3.12.5"
  }
 },
 "nbformat": 4,
 "nbformat_minor": 5
}
